{
 "cells": [
  {
   "cell_type": "code",
   "execution_count": 16,
   "metadata": {},
   "outputs": [],
   "source": [
    "#This is a simple feedforward neural network with one hidden layer and sigmoidal units to teach the network to compute logic gates (AND, OR and XOR)"
   ]
  },
  {
   "cell_type": "code",
   "execution_count": 17,
   "metadata": {},
   "outputs": [],
   "source": [
    "#The output will be logic gate AND, OR and XOR"
   ]
  },
  {
   "cell_type": "code",
   "execution_count": 20,
   "metadata": {},
   "outputs": [],
   "source": [
    "import numpy as np\n",
    "import matplotlib.pyplot as plt\n",
    "import matplotlib.ticker as ticker"
   ]
  },
  {
   "cell_type": "code",
   "execution_count": 19,
   "metadata": {},
   "outputs": [],
   "source": [
    "#for plotting\n",
    "aa = []\n",
    "bb=[]\n",
    "cc=[]"
   ]
  },
  {
   "cell_type": "code",
   "execution_count": 20,
   "metadata": {},
   "outputs": [],
   "source": [
    "def finderror(target, v):\n",
    "    return (np.power((v-target),2))*0.5"
   ]
  },
  {
   "cell_type": "code",
   "execution_count": 21,
   "metadata": {},
   "outputs": [],
   "source": [
    "def sigmoid(x):\n",
    "    return 1/(1+np.exp(-x))"
   ]
  },
  {
   "cell_type": "code",
   "execution_count": 22,
   "metadata": {},
   "outputs": [],
   "source": [
    "def sigmoid_prime(x):\n",
    "    return x*(1-x)"
   ]
  },
  {
   "cell_type": "code",
   "execution_count": 23,
   "metadata": {},
   "outputs": [],
   "source": [
    "#define learning rate\n",
    "learningrate = 0.1"
   ]
  },
  {
   "cell_type": "code",
   "execution_count": 24,
   "metadata": {
    "scrolled": true
   },
   "outputs": [],
   "source": [
    "# training input set below \n",
    "u = np.array([[0,0],\n",
    "              [0,1],\n",
    "              [1,0],\n",
    "              [1,1],\n",
    "              ])"
   ]
  },
  {
   "cell_type": "code",
   "execution_count": 25,
   "metadata": {},
   "outputs": [],
   "source": [
    "#target output below, target output: (result for )\n",
    "target = np.array([[0],\n",
    "                   [1],\n",
    "                   [1],\n",
    "                   [0]])"
   ]
  },
  {
   "cell_type": "code",
   "execution_count": 26,
   "metadata": {},
   "outputs": [],
   "source": [
    "#set random weight at start for input, first number is number of features for input, \n",
    "#2 binary numbers are used as input therefore only 2 features for input\n",
    "#second number is number of nueron in hidden layer\n",
    "wu = np.random.random((2,2))\n",
    "#set random weight at start for hidden layer, first number is number of neuron in hidden layer, \n",
    "#second number is the number of possible output\n",
    "wh = np.random.random((2,1))\n"
   ]
  },
  {
   "cell_type": "code",
   "execution_count": 27,
   "metadata": {
    "scrolled": false
   },
   "outputs": [],
   "source": [
    "#do learning for 1000 epoch\n",
    "for iteration in range (20000):\n",
    "\n",
    "    #Apply weight(wu) to input(u)\n",
    "    #The weight will be updated at end of the loop in attempt to minimise the error\n",
    "    wuu = np.dot(u, wu)\n",
    "\n",
    "    #sigmoid activation applied on the weighted input to get the hidden layer(h)\n",
    "    #sigmoid introduce non-linearity to the network so we can learn beyond linear regression\n",
    "    h = sigmoid(wuu)\n",
    "\n",
    "    #Apply weight(wh) to hidden layer\n",
    "    whh = np.dot(h, wh)\n",
    "\n",
    "    #sigmoid activation function applied to the weighted hidden layer to get output(v)\n",
    "    v = sigmoid(whh)\n",
    "\n",
    "    #find delta of error\n",
    "    delta_error = v-target\n",
    "    \n",
    "    #-------------------------------------------------------------------------------------------\n",
    "    #begin backpropadation\n",
    "\n",
    "    #In order to know how much weight we should adjust, we need to find the derivative of loss function \n",
    "    #If we get the derivative, we can carry out gradient descent\n",
    "    \n",
    "    #chain rule has to be used in steps below \n",
    "    #so that we can get derivative of loss function in respect to the weight for each layer\n",
    "    \n",
    "    #find derivative of error function that was used on the hidden layer\n",
    "    delta_whh = sigmoid_prime(v)\n",
    "\n",
    "    #find weight to be adjusted that should be applied to hidden layer\n",
    "    delta_wh = np.dot(h.T, delta_error * delta_whh)\n",
    "\n",
    "    #find weight difference \n",
    "    delta_h = np.dot(delta_error * delta_whh,wh.T)\n",
    "\n",
    "    #find derevative of error function that was used on the input\n",
    "    delta_wuu = sigmoid_prime(h)\n",
    "\n",
    "    #find weight to be adjusted that should be applied to input layer\n",
    "    delta_wu = np.dot(u.T, delta_h * delta_wuu)\n",
    "\n",
    "    #make adjustment to the weight of input layer according to wu\n",
    "    wu = wu - learningrate * delta_wu\n",
    "    \n",
    "    #make adjustment to the weight according to delta_wh\n",
    "    wh = wh - learningrate * delta_wh\n",
    "    \n",
    "    \n",
    "    \n",
    "\n",
    "    wudiff = np.average(delta_wu)\n",
    "    whdiff = np.average(delta_wh)\n",
    "    difference = np.average(abs(v-target))\n",
    "    aa.append(difference)\n",
    "    bb.append(wudiff)\n",
    "    cc.append(whdiff)"
   ]
  },
  {
   "cell_type": "code",
   "execution_count": 28,
   "metadata": {
    "scrolled": false
   },
   "outputs": [
    {
     "data": {
      "text/plain": [
       "Text(0.5, 0.98, 'Training done on XOR label')"
      ]
     },
     "execution_count": 28,
     "metadata": {},
     "output_type": "execute_result"
    },
    {
     "data": {
      "image/png": "[encoded data removed]",
      "text/plain": [
       "<Figure size 432x288 with 1 Axes>"
      ]
     },
     "metadata": {
      "needs_background": "light"
     },
     "output_type": "display_data"
    }
   ],
   "source": [
    "fig =plt.figure()\n",
    "plt.plot(aa)\n",
    "x1,x2,y1,y2=plt.axis()\n",
    "plt.axis((x1,x2,0,0.7))\n",
    "fig.suptitle('Training done on XOR label')"
   ]
  },
  {
   "cell_type": "code",
   "execution_count": 31,
   "metadata": {
    "scrolled": false
   },
   "outputs": [
    {
     "data": {
      "image/png": "[encoded data removed]",
      "text/plain": [
       "<Figure size 432x288 with 1 Axes>"
      ]
     },
     "metadata": {
      "needs_background": "light"
     },
     "output_type": "display_data"
    }
   ],
   "source": [
    "#weight change difference in first weight (wu)\n",
    "fig=plt.figure()\n",
    "plt.plot(cc,label='delta_wh')\n",
    "plt.plot(bb,label='delta_wu')\n",
    "\n",
    "x1,x2,y1,y2=plt.axis()\n",
    "plt.axis((x1,x2,0,0.05))\n",
    "fig.suptitle('Training done on XOR label')\n",
    "plt.legend()\n",
    "plt.show()"
   ]
  },
  {
   "cell_type": "code",
   "execution_count": 30,
   "metadata": {
    "scrolled": true
   },
   "outputs": [
    {
     "data": {
      "text/plain": [
       "(-999.95, 20998.95, 0, 0.05)"
      ]
     },
     "execution_count": 30,
     "metadata": {},
     "output_type": "execute_result"
    },
    {
     "data": {
      "image/png": "[encoded data removed]",
      "text/plain": [
       "<Figure size 432x288 with 1 Axes>"
      ]
     },
     "metadata": {
      "needs_background": "light"
     },
     "output_type": "display_data"
    }
   ],
   "source": [
    "#weight change difference in second weight (wh)\n",
    "plt.plot(cc)\n",
    "x1,x2,y1,y2=plt.axis()\n",
    "plt.axis((x1,x2,0,0.05))"
   ]
  },
  {
   "cell_type": "code",
   "execution_count": null,
   "metadata": {},
   "outputs": [],
   "source": []
  }
 ],
 "metadata": {
  "kernelspec": {
   "display_name": "Python 3",
   "language": "python",
   "name": "python3"
  },
  "language_info": {
   "codemirror_mode": {
    "name": "ipython",
    "version": 3
   },
   "file_extension": ".py",
   "mimetype": "text/x-python",
   "name": "python",
   "nbconvert_exporter": "python",
   "pygments_lexer": "ipython3",
   "version": "3.7.4"
  }
 },
 "nbformat": 4,
 "nbformat_minor": 2
}
